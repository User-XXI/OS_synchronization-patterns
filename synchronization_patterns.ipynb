{
  "nbformat": 4,
  "nbformat_minor": 0,
  "metadata": {
    "colab": {
      "provenance": [],
      "authorship_tag": "ABX9TyMC6M6WCMv/dF04e67EetH+",
      "include_colab_link": true
    },
    "kernelspec": {
      "name": "python3",
      "display_name": "Python 3"
    },
    "language_info": {
      "name": "python"
    }
  },
  "cells": [
    {
      "cell_type": "markdown",
      "metadata": {
        "id": "view-in-github",
        "colab_type": "text"
      },
      "source": [
        "<a href=\"https://colab.research.google.com/github/User-XXI/OS_synchronization-patterns/blob/main/synchronization_patterns.ipynb\" target=\"_parent\"><img src=\"https://colab.research.google.com/assets/colab-badge.svg\" alt=\"Open In Colab\"/></a>"
      ]
    },
    {
      "cell_type": "code",
      "execution_count": null,
      "metadata": {
        "colab": {
          "base_uri": "https://localhost:8080/"
        },
        "id": "hN8Go7hgoEfq",
        "outputId": "ec5692d2-7140-4a9f-f0ec-203ba1f1426c"
      },
      "outputs": [
        {
          "output_type": "stream",
          "name": "stdout",
          "text": [
            "Работник ждет сигнала\n",
            "Нажмите Enter, чтобы отправить сигнал...\n",
            "\n",
            "Работник получил сигнал\n"
          ]
        }
      ],
      "source": [
        "import threading\n",
        "\n",
        "condition = threading.Condition()\n",
        "\n",
        "def worker():\n",
        "    with condition:\n",
        "        print(\"Работник ждет сигнала\")\n",
        "        condition.wait()\n",
        "        print(\"Работник получил сигнал\")\n",
        "\n",
        "threading.Thread(target=worker).start()\n",
        "\n",
        "input(\"Нажмите Enter, чтобы отправить сигнал...\\n\")\n",
        "with condition:\n",
        "    condition.notify()\n"
      ]
    },
    {
      "cell_type": "code",
      "source": [
        "import threading\n",
        "\n",
        "def meeting_point(barrier):\n",
        "    print(f\"{threading.current_thread().name} достиг рандеву-точки\")\n",
        "    barrier.wait()\n",
        "    print(f\"{threading.current_thread().name} прошел рандеву-точку\")\n",
        "\n",
        "barrier = threading.Barrier(2)\n",
        "\n",
        "threading.Thread(target=meeting_point, args=(barrier,), name=\"Поток 1\").start()\n",
        "threading.Thread(target=meeting_point, args=(barrier,), name=\"Поток 2\").start()\n"
      ],
      "metadata": {
        "colab": {
          "base_uri": "https://localhost:8080/"
        },
        "id": "u7ZSViruoNZB",
        "outputId": "072c8d34-20f8-4e5e-ef6e-8436ec22f3d7"
      },
      "execution_count": null,
      "outputs": [
        {
          "output_type": "stream",
          "name": "stdout",
          "text": [
            "Поток 1 достиг рандеву-точки\n",
            "Поток 2 достиг рандеву-точки\n",
            "Поток 2 прошел рандеву-точкуПоток 1 прошел рандеву-точку\n",
            "\n"
          ]
        }
      ]
    },
    {
      "cell_type": "code",
      "source": [
        "import threading\n",
        "\n",
        "def stage(barrier):\n",
        "    print(f\"{threading.current_thread().name} на стадии выполнения\")\n",
        "    barrier.wait()\n",
        "    print(f\"{threading.current_thread().name} завершил этап\")\n",
        "\n",
        "barrier = threading.Barrier(3)\n",
        "\n",
        "for i in range(3):\n",
        "    threading.Thread(target=stage, args=(barrier,), name=f\"Поток {i+1}\").start()\n"
      ],
      "metadata": {
        "colab": {
          "base_uri": "https://localhost:8080/"
        },
        "id": "pP5uFuENoWQT",
        "outputId": "8a1d71b0-bb44-49ac-8758-105f37a5fa2b"
      },
      "execution_count": null,
      "outputs": [
        {
          "output_type": "stream",
          "name": "stdout",
          "text": [
            "Поток 1 на стадии выполнения\n",
            "Поток 2 на стадии выполнения\n",
            "Поток 3 на стадии выполнения\n",
            "Поток 3 завершил этапПоток 1 завершил этап\n",
            "Поток 2 завершил этап\n",
            "\n"
          ]
        }
      ]
    },
    {
      "cell_type": "code",
      "source": [
        "import threading\n",
        "\n",
        "def cyclic_barrier_task(barrier, rounds):\n",
        "    for i in range(rounds):\n",
        "        print(f\"{threading.current_thread().name} выполнен раунд {i+1}\")\n",
        "        barrier.wait()\n",
        "\n",
        "rounds = 3\n",
        "barrier = threading.Barrier(2)\n",
        "\n",
        "for i in range(2):\n",
        "    threading.Thread(target=cyclic_barrier_task, args=(barrier, rounds),\n",
        "                     name=f\"Поток {i+1}\").start()\n"
      ],
      "metadata": {
        "colab": {
          "base_uri": "https://localhost:8080/"
        },
        "id": "PV-gBpZmoej5",
        "outputId": "b554e1fd-d0ff-4bcd-b027-cf984222ee79"
      },
      "execution_count": null,
      "outputs": [
        {
          "output_type": "stream",
          "name": "stdout",
          "text": [
            "Поток 1 выполнен раунд 1Поток 2 выполнен раунд 1\n",
            "\n",
            "Поток 1 выполнен раунд 2\n",
            "Поток 2 выполнен раунд 2\n",
            "Поток 1 выполнен раунд 3Поток 2 выполнен раунд 3\n",
            "\n"
          ]
        }
      ]
    }
  ]
}